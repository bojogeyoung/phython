{
  "nbformat": 4,
  "nbformat_minor": 0,
  "metadata": {
    "colab": {
      "private_outputs": true,
      "provenance": [],
      "authorship_tag": "ABX9TyPs5ES1d7Q396dmIGOHUynD",
      "include_colab_link": true
    },
    "kernelspec": {
      "name": "python3",
      "display_name": "Python 3"
    },
    "language_info": {
      "name": "python"
    }
  },
  "cells": [
    {
      "cell_type": "markdown",
      "metadata": {
        "id": "view-in-github",
        "colab_type": "text"
      },
      "source": [
        "<a href=\"https://colab.research.google.com/github/bojogeyoung/phython/blob/master/data2.ipynb\" target=\"_parent\"><img src=\"https://colab.research.google.com/assets/colab-badge.svg\" alt=\"Open In Colab\"/></a>"
      ]
    },
    {
      "cell_type": "code",
      "execution_count": null,
      "metadata": {
        "id": "_zEfSd4XX_B1"
      },
      "outputs": [],
      "source": [
        "import numpy as np\n",
        "#배열함수"
      ]
    },
    {
      "cell_type": "code",
      "source": [
        "np.zeros((2,5))\n",
        "#np.zeros() 인자값으로 들어온 데이터만큼 모든 요소가 0으로 채워진 array를 만들어준다.\n",
        "#array 기본 세팅할때 활용"
      ],
      "metadata": {
        "id": "ho755ye8YFIE"
      },
      "execution_count": null,
      "outputs": []
    },
    {
      "cell_type": "code",
      "source": [
        "np.ones((2,10))"
      ],
      "metadata": {
        "id": "u72Al6xVYutB"
      },
      "execution_count": null,
      "outputs": []
    },
    {
      "cell_type": "code",
      "source": [
        "np.arange(10)"
      ],
      "metadata": {
        "id": "q1NmvgcOZcmu"
      },
      "execution_count": null,
      "outputs": []
    },
    {
      "cell_type": "code",
      "source": [
        "np.arange(5,10)"
      ],
      "metadata": {
        "id": "_vjqleMAZ6Rm"
      },
      "execution_count": null,
      "outputs": []
    },
    {
      "cell_type": "code",
      "source": [
        "np.eye(3)\n",
        "#단위행렬"
      ],
      "metadata": {
        "id": "sOlxqbiUaNZC"
      },
      "execution_count": null,
      "outputs": []
    }
  ]
}